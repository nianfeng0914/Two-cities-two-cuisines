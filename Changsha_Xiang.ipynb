{
 "cells": [
  {
   "cell_type": "code",
   "execution_count": 1,
   "metadata": {},
   "outputs": [],
   "source": [
    "import requests \n",
    "import bs4 as bs \n",
    "\n",
    "from time import sleep\n",
    "from time import time\n",
    "from random import randint\n",
    "\n",
    "import pandas as pd"
   ]
  },
  {
   "cell_type": "code",
   "execution_count": 10,
   "metadata": {},
   "outputs": [
    {
     "name": "stdout",
     "output_type": "stream",
     "text": [
      "<Response [200]>\n"
     ]
    }
   ],
   "source": [
    "headers = {'Host': 'www.dianping.com',\n",
    "    'Referer': 'http://www.dianping.com/shop/22711693',\n",
    "    'User-Agent': 'Mozilla/5.0 (Macintosh; Intel Mac OS X 10_10_1) AppleWebKit/537.36 (KHTML, like Gecko) Chrome/39.0.2171.95 Safari/535.19',\n",
    "    'Accept-Encoding': 'gzip'}\n",
    "source = requests.get('https://www.dianping.com/search/keyword/8/0_%E5%B7%9D%E8%8F%9C',headers=headers) \n",
    "\n",
    "print(source)"
   ]
  },
  {
   "cell_type": "code",
   "execution_count": 11,
   "metadata": {},
   "outputs": [],
   "source": [
    "soup = bs.BeautifulSoup(source.content, 'html.parser')"
   ]
  },
  {
   "cell_type": "code",
   "execution_count": 12,
   "metadata": {},
   "outputs": [],
   "source": [
    "numbers = soup.find_all('div',class_='bread J_bread')"
   ]
  },
  {
   "cell_type": "code",
   "execution_count": 13,
   "metadata": {},
   "outputs": [
    {
     "name": "stdout",
     "output_type": "stream",
     "text": [
      "[]\n"
     ]
    }
   ],
   "source": [
    "print(numbers)"
   ]
  },
  {
   "cell_type": "code",
   "execution_count": 14,
   "metadata": {},
   "outputs": [],
   "source": [
    "for number in numbers:\n",
    "    amount = number.select('span:nth-of-type(3)')\n",
    "    print(amount)"
   ]
  },
  {
   "cell_type": "code",
   "execution_count": null,
   "metadata": {},
   "outputs": [],
   "source": [
    "titles = []\n",
    "kouweis = []\n",
    "huanjings = []\n",
    "fuwus = []\n",
    "places = []\n",
    "\n",
    "pages = [str(i) for i in range(21,41)] \n",
    "\n",
    "headers = {'Host': 'www.dianping.com',\n",
    "    'Referer': 'http://www.dianping.com/shop/22711693',\n",
    "    'User-Agent': 'Mozilla/5.0 (Macintosh; Intel Mac OS X 10_10_1) AppleWebKit/537.36 (KHTML, like Gecko) Chrome/39.0.2171.95 Safari/535.19',\n",
    "    'Accept-Encoding': 'gzip'}\n",
    "\n",
    "for page in pages:\n",
    "    \n",
    "    source1 = requests.get('http://www.dianping.com/changsha/ch10/g104o2p' + page,headers=headers)\n",
    "\n",
    "    sleep(randint(3,5))\n",
    "\n",
    "    page_html = bs.BeautifulSoup(source1.content, 'html.parser')\n",
    "\n",
    "    containers = page_html.find_all('div',class_='tit') \n",
    "\n",
    "    for container in containers:\n",
    "        for title in container.find_all('h4'): \n",
    "            titles.append(title.text.strip())\n",
    "    \n",
    "    kouweiss = page_html.find_all('span',class_='comment-list') \n",
    "\n",
    "    for kouweisss in kouweiss:\n",
    "            kouwei = kouweisss.select('b:nth-of-type(1)')\n",
    "            for kouwei_text in kouwei:\n",
    "                kouwei_txt = kouwei_text.get_text()\n",
    "            kouweis.append(kouwei_txt)\n",
    "    \n",
    "    huanjingss = page_html.find_all('span',class_='comment-list') \n",
    "\n",
    "    for huanjingsss in huanjingss:\n",
    "            huanjing = huanjingsss.select('b:nth-of-type(2)')\n",
    "            for huanjing_text in huanjing:\n",
    "                huanjing_txt = huanjing_text.get_text()\n",
    "            huanjings.append(huanjing_txt)\n",
    "    \n",
    "    fuwuss = page_html.find_all('span',class_='comment-list') \n",
    "\n",
    "    for fuwusss in fuwuss:\n",
    "            fuwu = fuwusss.select('b:nth-of-type(3)')\n",
    "            for fuwu_text in fuwu:\n",
    "                fuwu_txt = fuwu_text.get_text()\n",
    "            fuwus.append(fuwu_txt)\n",
    "    \n",
    "    placess = page_html.find_all('div',class_='tag-addr') \n",
    "\n",
    "    for placesss in placess:\n",
    "        place = placesss.select('a:nth-of-type(2)')\n",
    "        for place_text in place:\n",
    "            place_text = place_text.get('href')\n",
    "        places.append(place_text)\n",
    "\n",
    "\n",
    "print(titles)\n",
    "print(kouweis)\n",
    "print(huanjings)\n",
    "print(fuwus)\n",
    "print(places)\n",
    "\n"
   ]
  },
  {
   "cell_type": "code",
   "execution_count": null,
   "metadata": {},
   "outputs": [],
   "source": [
    "shop = {\n",
    "    '店名': titles,\n",
    "    '口味': kouweis,\n",
    "    '环境': huanjings,\n",
    "    '服务': fuwus,\n",
    "    '地区': places\n",
    "}"
   ]
  },
  {
   "cell_type": "code",
   "execution_count": null,
   "metadata": {},
   "outputs": [],
   "source": [
    "pd_Shops_changsha_chuancai = pd.DataFrame.from_dict(shop, orient ='index').transpose()"
   ]
  },
  {
   "cell_type": "code",
   "execution_count": null,
   "metadata": {},
   "outputs": [],
   "source": [
    "pd_Shops_changsha_chuancai"
   ]
  },
  {
   "cell_type": "code",
   "execution_count": null,
   "metadata": {},
   "outputs": [],
   "source": [
    "pd_Shops_changsha_chuancai.to_csv('Shops_changsha_chuancai.csv')"
   ]
  },
  {
   "cell_type": "code",
   "execution_count": 1,
   "metadata": {},
   "outputs": [],
   "source": [
    "import pandas as pd \n",
    "df=pd.read_csv('pd_Shops_changsha_xiangcai.csv')"
   ]
  },
  {
   "cell_type": "code",
   "execution_count": 2,
   "metadata": {},
   "outputs": [
    {
     "data": {
      "text/html": [
       "<div>\n",
       "<style scoped>\n",
       "    .dataframe tbody tr th:only-of-type {\n",
       "        vertical-align: middle;\n",
       "    }\n",
       "\n",
       "    .dataframe tbody tr th {\n",
       "        vertical-align: top;\n",
       "    }\n",
       "\n",
       "    .dataframe thead th {\n",
       "        text-align: right;\n",
       "    }\n",
       "</style>\n",
       "<table border=\"1\" class=\"dataframe\">\n",
       "  <thead>\n",
       "    <tr style=\"text-align: right;\">\n",
       "      <th></th>\n",
       "      <th>Unnamed: 0</th>\n",
       "      <th>店名</th>\n",
       "      <th>口味</th>\n",
       "      <th>环境</th>\n",
       "      <th>服务</th>\n",
       "      <th>地区</th>\n",
       "    </tr>\n",
       "  </thead>\n",
       "  <tbody>\n",
       "    <tr>\n",
       "      <th>0</th>\n",
       "      <td>0</td>\n",
       "      <td>钰湘宴·剁椒鱼头(河西岳麓总店)</td>\n",
       "      <td>8.5</td>\n",
       "      <td>8.9</td>\n",
       "      <td>8.6</td>\n",
       "      <td>http://www.dianping.com/changsha/ch10/r6035</td>\n",
       "    </tr>\n",
       "    <tr>\n",
       "      <th>1</th>\n",
       "      <td>1</td>\n",
       "      <td>天水阁餐厅(岳麓店)</td>\n",
       "      <td>8.9</td>\n",
       "      <td>8.8</td>\n",
       "      <td>9.1</td>\n",
       "      <td>http://www.dianping.com/changsha/ch10/r7964</td>\n",
       "    </tr>\n",
       "    <tr>\n",
       "      <th>2</th>\n",
       "      <td>2</td>\n",
       "      <td>潘记虾尾(新开铺店)</td>\n",
       "      <td>8.3</td>\n",
       "      <td>9.1</td>\n",
       "      <td>7.6</td>\n",
       "      <td>http://www.dianping.com/changsha/ch10/r6025</td>\n",
       "    </tr>\n",
       "    <tr>\n",
       "      <th>3</th>\n",
       "      <td>3</td>\n",
       "      <td>霸王虾(湘江世纪城店)</td>\n",
       "      <td>7.3</td>\n",
       "      <td>8.3</td>\n",
       "      <td>7.3</td>\n",
       "      <td>http://www.dianping.com/changsha/ch10/r12159</td>\n",
       "    </tr>\n",
       "    <tr>\n",
       "      <th>4</th>\n",
       "      <td>4</td>\n",
       "      <td>新哥大排挡(润泽园店)</td>\n",
       "      <td>8.9</td>\n",
       "      <td>8.3</td>\n",
       "      <td>7.7</td>\n",
       "      <td>http://www.dianping.com/changsha/ch10/r12159</td>\n",
       "    </tr>\n",
       "  </tbody>\n",
       "</table>\n",
       "</div>"
      ],
      "text/plain": [
       "   Unnamed: 0                店名   口味   环境   服务  \\\n",
       "0           0  钰湘宴·剁椒鱼头(河西岳麓总店)  8.5  8.9  8.6   \n",
       "1           1        天水阁餐厅(岳麓店)  8.9  8.8  9.1   \n",
       "2           2        潘记虾尾(新开铺店)  8.3  9.1  7.6   \n",
       "3           3       霸王虾(湘江世纪城店)  7.3  8.3  7.3   \n",
       "4           4       新哥大排挡(润泽园店)  8.9  8.3  7.7   \n",
       "\n",
       "                                             地区  \n",
       "0   http://www.dianping.com/changsha/ch10/r6035  \n",
       "1   http://www.dianping.com/changsha/ch10/r7964  \n",
       "2   http://www.dianping.com/changsha/ch10/r6025  \n",
       "3  http://www.dianping.com/changsha/ch10/r12159  \n",
       "4  http://www.dianping.com/changsha/ch10/r12159  "
      ]
     },
     "execution_count": 2,
     "metadata": {},
     "output_type": "execute_result"
    }
   ],
   "source": [
    "df.head(5)"
   ]
  },
  {
   "cell_type": "code",
   "execution_count": 3,
   "metadata": {},
   "outputs": [
    {
     "name": "stderr",
     "output_type": "stream",
     "text": [
      "/anaconda3/lib/python3.6/site-packages/ipykernel_launcher.py:8: SettingWithCopyWarning: \n",
      "A value is trying to be set on a copy of a slice from a DataFrame\n",
      "\n",
      "See the caveats in the documentation: http://pandas.pydata.org/pandas-docs/stable/indexing.html#indexing-view-versus-copy\n",
      "  \n"
     ]
    }
   ],
   "source": [
    "wuyi=[]\n",
    "for i in df['地区']:\n",
    "    if i.__contains__('r6025'):\n",
    "        wuyi.append(True)\n",
    "    else:\n",
    "        wuyi.append(False)\n",
    "        \n",
    "df['地区'][wuyi]='五一广场'"
   ]
  },
  {
   "cell_type": "code",
   "execution_count": 4,
   "metadata": {},
   "outputs": [
    {
     "name": "stderr",
     "output_type": "stream",
     "text": [
      "/anaconda3/lib/python3.6/site-packages/ipykernel_launcher.py:8: SettingWithCopyWarning: \n",
      "A value is trying to be set on a copy of a slice from a DataFrame\n",
      "\n",
      "See the caveats in the documentation: http://pandas.pydata.org/pandas-docs/stable/indexing.html#indexing-view-versus-copy\n",
      "  \n"
     ]
    }
   ],
   "source": [
    "huang=[]\n",
    "for i in df['地区']:\n",
    "    if i.__contains__('r7956'):\n",
    "        huang.append(True)\n",
    "    else:\n",
    "        huang.append(False)\n",
    "        \n",
    "df['地区'][huang]='黄兴路步行街'"
   ]
  },
  {
   "cell_type": "code",
   "execution_count": 5,
   "metadata": {},
   "outputs": [
    {
     "name": "stderr",
     "output_type": "stream",
     "text": [
      "/anaconda3/lib/python3.6/site-packages/ipykernel_launcher.py:8: SettingWithCopyWarning: \n",
      "A value is trying to be set on a copy of a slice from a DataFrame\n",
      "\n",
      "See the caveats in the documentation: http://pandas.pydata.org/pandas-docs/stable/indexing.html#indexing-view-versus-copy\n",
      "  \n"
     ]
    }
   ],
   "source": [
    "zhongshan=[]\n",
    "for i in df['地区']:\n",
    "    if i.__contains__('r8256'):\n",
    "        zhongshan.append(True)\n",
    "    else:\n",
    "        zhongshan.append(False)\n",
    "        \n",
    "df['地区'][zhongshan]='中山亭'"
   ]
  },
  {
   "cell_type": "code",
   "execution_count": 6,
   "metadata": {},
   "outputs": [
    {
     "name": "stderr",
     "output_type": "stream",
     "text": [
      "/anaconda3/lib/python3.6/site-packages/ipykernel_launcher.py:7: SettingWithCopyWarning: \n",
      "A value is trying to be set on a copy of a slice from a DataFrame\n",
      "\n",
      "See the caveats in the documentation: http://pandas.pydata.org/pandas-docs/stable/indexing.html#indexing-view-versus-copy\n",
      "  import sys\n"
     ]
    }
   ],
   "source": [
    "xinmin=[]\n",
    "for i in df['地区']:\n",
    "    if i.__contains__('r23995'):\n",
    "        xinmin.append(True)\n",
    "    else:\n",
    "        xinmin.append(False)\n",
    "df['地区'][xinmin]='新民路'"
   ]
  },
  {
   "cell_type": "code",
   "execution_count": 7,
   "metadata": {},
   "outputs": [
    {
     "name": "stderr",
     "output_type": "stream",
     "text": [
      "/anaconda3/lib/python3.6/site-packages/ipykernel_launcher.py:8: SettingWithCopyWarning: \n",
      "A value is trying to be set on a copy of a slice from a DataFrame\n",
      "\n",
      "See the caveats in the documentation: http://pandas.pydata.org/pandas-docs/stable/indexing.html#indexing-view-versus-copy\n",
      "  \n"
     ]
    }
   ],
   "source": [
    "tongzi=[]\n",
    "for i in df['地区']:\n",
    "    if i.__contains__('r6035'):\n",
    "        tongzi.append(True)\n",
    "    else:\n",
    "        tongzi.append(False)\n",
    "        \n",
    "df['地区'][tongzi]='桐梓坡'"
   ]
  },
  {
   "cell_type": "code",
   "execution_count": 8,
   "metadata": {},
   "outputs": [
    {
     "name": "stderr",
     "output_type": "stream",
     "text": [
      "/anaconda3/lib/python3.6/site-packages/ipykernel_launcher.py:8: SettingWithCopyWarning: \n",
      "A value is trying to be set on a copy of a slice from a DataFrame\n",
      "\n",
      "See the caveats in the documentation: http://pandas.pydata.org/pandas-docs/stable/indexing.html#indexing-view-versus-copy\n",
      "  \n"
     ]
    }
   ],
   "source": [
    "liuyanghe=[]\n",
    "for i in df['地区']:\n",
    "    if i.__contains__('r8254'):\n",
    "        liuyanghe.append(True)\n",
    "    else:\n",
    "        liuyanghe.append(False)\n",
    "        \n",
    "df['地区'][liuyanghe]='浏阳河风光带'"
   ]
  },
  {
   "cell_type": "code",
   "execution_count": 9,
   "metadata": {},
   "outputs": [
    {
     "name": "stderr",
     "output_type": "stream",
     "text": [
      "/anaconda3/lib/python3.6/site-packages/ipykernel_launcher.py:8: SettingWithCopyWarning: \n",
      "A value is trying to be set on a copy of a slice from a DataFrame\n",
      "\n",
      "See the caveats in the documentation: http://pandas.pydata.org/pandas-docs/stable/indexing.html#indexing-view-versus-copy\n",
      "  \n"
     ]
    }
   ],
   "source": [
    "lieshi=[]\n",
    "for i in df['地区']:\n",
    "    if i.__contains__('r8259'):\n",
    "        lieshi.append(True)\n",
    "    else:\n",
    "        lieshi.append(False)\n",
    "        \n",
    "df['地区'][lieshi]='烈士公园'"
   ]
  },
  {
   "cell_type": "code",
   "execution_count": 10,
   "metadata": {},
   "outputs": [
    {
     "name": "stderr",
     "output_type": "stream",
     "text": [
      "/anaconda3/lib/python3.6/site-packages/ipykernel_launcher.py:8: SettingWithCopyWarning: \n",
      "A value is trying to be set on a copy of a slice from a DataFrame\n",
      "\n",
      "See the caveats in the documentation: http://pandas.pydata.org/pandas-docs/stable/indexing.html#indexing-view-versus-copy\n",
      "  \n"
     ]
    }
   ],
   "source": [
    "hexi=[]\n",
    "for i in df['地区']:\n",
    "    if i.__contains__('r6036'):\n",
    "        hexi.append(True)\n",
    "    else:\n",
    "        hexi.append(False)\n",
    "        \n",
    "df['地区'][hexi]='河西大学城'"
   ]
  },
  {
   "cell_type": "code",
   "execution_count": 11,
   "metadata": {},
   "outputs": [
    {
     "name": "stderr",
     "output_type": "stream",
     "text": [
      "/anaconda3/lib/python3.6/site-packages/ipykernel_launcher.py:8: SettingWithCopyWarning: \n",
      "A value is trying to be set on a copy of a slice from a DataFrame\n",
      "\n",
      "See the caveats in the documentation: http://pandas.pydata.org/pandas-docs/stable/indexing.html#indexing-view-versus-copy\n",
      "  \n"
     ]
    }
   ],
   "source": [
    "pozi=[]\n",
    "for i in df['地区']:\n",
    "    if i.__contains__('r12159'):\n",
    "        pozi.append(True)\n",
    "    else:\n",
    "        pozi.append(False)\n",
    "        \n",
    "df['地区'][pozi]='坡子街'"
   ]
  },
  {
   "cell_type": "code",
   "execution_count": 12,
   "metadata": {},
   "outputs": [
    {
     "name": "stderr",
     "output_type": "stream",
     "text": [
      "/anaconda3/lib/python3.6/site-packages/ipykernel_launcher.py:8: SettingWithCopyWarning: \n",
      "A value is trying to be set on a copy of a slice from a DataFrame\n",
      "\n",
      "See the caveats in the documentation: http://pandas.pydata.org/pandas-docs/stable/indexing.html#indexing-view-versus-copy\n",
      "  \n"
     ]
    }
   ],
   "source": [
    "yinpen=[]\n",
    "for i in df['地区']:\n",
    "    if i.__contains__('r7964'):\n",
    "        yinpen.append(True)\n",
    "    else:\n",
    "        yinpen.append(False)\n",
    "        \n",
    "df['地区'][yinpen]='银盆岭'"
   ]
  },
  {
   "cell_type": "code",
   "execution_count": 13,
   "metadata": {},
   "outputs": [
    {
     "name": "stderr",
     "output_type": "stream",
     "text": [
      "/anaconda3/lib/python3.6/site-packages/ipykernel_launcher.py:8: SettingWithCopyWarning: \n",
      "A value is trying to be set on a copy of a slice from a DataFrame\n",
      "\n",
      "See the caveats in the documentation: http://pandas.pydata.org/pandas-docs/stable/indexing.html#indexing-view-versus-copy\n",
      "  \n"
     ]
    }
   ],
   "source": [
    "huoche=[]\n",
    "for i in df['地区']:\n",
    "    if i.__contains__('r8253'):\n",
    "        huoche.append(True)\n",
    "    else:\n",
    "        huoche.append(False)\n",
    "        \n",
    "df['地区'][huoche]='火车站'"
   ]
  },
  {
   "cell_type": "code",
   "execution_count": 14,
   "metadata": {},
   "outputs": [
    {
     "name": "stderr",
     "output_type": "stream",
     "text": [
      "/anaconda3/lib/python3.6/site-packages/ipykernel_launcher.py:8: SettingWithCopyWarning: \n",
      "A value is trying to be set on a copy of a slice from a DataFrame\n",
      "\n",
      "See the caveats in the documentation: http://pandas.pydata.org/pandas-docs/stable/indexing.html#indexing-view-versus-copy\n",
      "  \n"
     ]
    }
   ],
   "source": [
    "jiefang=[]\n",
    "for i in df['地区']:\n",
    "    if i.__contains__('r8263'):\n",
    "        jiefang.append(True)\n",
    "    else:\n",
    "        jiefang.append(False)\n",
    "        \n",
    "df['地区'][jiefang]='解放西路'"
   ]
  },
  {
   "cell_type": "code",
   "execution_count": 15,
   "metadata": {},
   "outputs": [
    {
     "name": "stderr",
     "output_type": "stream",
     "text": [
      "/anaconda3/lib/python3.6/site-packages/ipykernel_launcher.py:8: SettingWithCopyWarning: \n",
      "A value is trying to be set on a copy of a slice from a DataFrame\n",
      "\n",
      "See the caveats in the documentation: http://pandas.pydata.org/pandas-docs/stable/indexing.html#indexing-view-versus-copy\n",
      "  \n"
     ]
    }
   ],
   "source": [
    "xianjia=[]\n",
    "for i in df['地区']:\n",
    "    if i.__contains__('r8275'):\n",
    "        xianjia.append(True)\n",
    "    else:\n",
    "        xianjia.append(False)\n",
    "        \n",
    "df['地区'][xianjia]='咸嘉湖'"
   ]
  },
  {
   "cell_type": "code",
   "execution_count": 16,
   "metadata": {},
   "outputs": [
    {
     "name": "stderr",
     "output_type": "stream",
     "text": [
      "/anaconda3/lib/python3.6/site-packages/ipykernel_launcher.py:8: SettingWithCopyWarning: \n",
      "A value is trying to be set on a copy of a slice from a DataFrame\n",
      "\n",
      "See the caveats in the documentation: http://pandas.pydata.org/pandas-docs/stable/indexing.html#indexing-view-versus-copy\n",
      "  \n"
     ]
    }
   ],
   "source": [
    "dongtang=[]\n",
    "for i in df['地区']:\n",
    "    if i.__contains__('r6031'):\n",
    "        dongtang.append(True)\n",
    "    else:\n",
    "        dongtang.append(False)\n",
    "        \n",
    "df['地区'][dongtang]='东塘'"
   ]
  },
  {
   "cell_type": "code",
   "execution_count": 17,
   "metadata": {},
   "outputs": [
    {
     "name": "stderr",
     "output_type": "stream",
     "text": [
      "/anaconda3/lib/python3.6/site-packages/ipykernel_launcher.py:8: SettingWithCopyWarning: \n",
      "A value is trying to be set on a copy of a slice from a DataFrame\n",
      "\n",
      "See the caveats in the documentation: http://pandas.pydata.org/pandas-docs/stable/indexing.html#indexing-view-versus-copy\n",
      "  \n"
     ]
    }
   ],
   "source": [
    "zhongshan=[]\n",
    "for i in df['地区']:\n",
    "    if i.__contains__('r8256'):\n",
    "        zhongshan.append(True)\n",
    "    else:\n",
    "        zhongshan.append(False)\n",
    "        \n",
    "df['地区'][zhongshan]='中山亭'"
   ]
  },
  {
   "cell_type": "code",
   "execution_count": 18,
   "metadata": {},
   "outputs": [
    {
     "name": "stderr",
     "output_type": "stream",
     "text": [
      "/anaconda3/lib/python3.6/site-packages/ipykernel_launcher.py:8: SettingWithCopyWarning: \n",
      "A value is trying to be set on a copy of a slice from a DataFrame\n",
      "\n",
      "See the caveats in the documentation: http://pandas.pydata.org/pandas-docs/stable/indexing.html#indexing-view-versus-copy\n",
      "  \n"
     ]
    }
   ],
   "source": [
    "furong=[]\n",
    "for i in df['地区']:\n",
    "    if i.__contains__('r7960'):\n",
    "        furong.append(True)\n",
    "    else:\n",
    "        furong.append(False)\n",
    "        \n",
    "df['地区'][furong]='芙蓉南路沿线'"
   ]
  },
  {
   "cell_type": "code",
   "execution_count": 19,
   "metadata": {},
   "outputs": [
    {
     "name": "stderr",
     "output_type": "stream",
     "text": [
      "/anaconda3/lib/python3.6/site-packages/ipykernel_launcher.py:8: SettingWithCopyWarning: \n",
      "A value is trying to be set on a copy of a slice from a DataFrame\n",
      "\n",
      "See the caveats in the documentation: http://pandas.pydata.org/pandas-docs/stable/indexing.html#indexing-view-versus-copy\n",
      "  \n"
     ]
    }
   ],
   "source": [
    "tianxin=[]\n",
    "for i in df['地区']:\n",
    "    if i.__contains__('r6030'):\n",
    "        tianxin.append(True)\n",
    "    else:\n",
    "        tianxin.append(False)\n",
    "        \n",
    "df['地区'][tianxin]='天心阁'"
   ]
  },
  {
   "cell_type": "code",
   "execution_count": 20,
   "metadata": {},
   "outputs": [
    {
     "name": "stderr",
     "output_type": "stream",
     "text": [
      "/anaconda3/lib/python3.6/site-packages/ipykernel_launcher.py:8: SettingWithCopyWarning: \n",
      "A value is trying to be set on a copy of a slice from a DataFrame\n",
      "\n",
      "See the caveats in the documentation: http://pandas.pydata.org/pandas-docs/stable/indexing.html#indexing-view-versus-copy\n",
      "  \n"
     ]
    }
   ],
   "source": [
    "tiyu=[]\n",
    "for i in df['地区']:\n",
    "    if i.__contains__('r8272'):\n",
    "        tiyu.append(True)\n",
    "    else:\n",
    "        tiyu.append(False)\n",
    "        \n",
    "df['地区'][tiyu]='体育新城'"
   ]
  },
  {
   "cell_type": "code",
   "execution_count": 21,
   "metadata": {},
   "outputs": [
    {
     "name": "stderr",
     "output_type": "stream",
     "text": [
      "/anaconda3/lib/python3.6/site-packages/ipykernel_launcher.py:8: SettingWithCopyWarning: \n",
      "A value is trying to be set on a copy of a slice from a DataFrame\n",
      "\n",
      "See the caveats in the documentation: http://pandas.pydata.org/pandas-docs/stable/indexing.html#indexing-view-versus-copy\n",
      "  \n"
     ]
    }
   ],
   "source": [
    "gaoqiao=[]\n",
    "for i in df['地区']:\n",
    "    if i.__contains__('r8271'):\n",
    "        gaoqiao.append(True)\n",
    "    else:\n",
    "        gaoqiao.append(False)\n",
    "        \n",
    "df['地区'][gaoqiao]='高桥'"
   ]
  },
  {
   "cell_type": "code",
   "execution_count": 22,
   "metadata": {},
   "outputs": [
    {
     "name": "stderr",
     "output_type": "stream",
     "text": [
      "/anaconda3/lib/python3.6/site-packages/ipykernel_launcher.py:8: SettingWithCopyWarning: \n",
      "A value is trying to be set on a copy of a slice from a DataFrame\n",
      "\n",
      "See the caveats in the documentation: http://pandas.pydata.org/pandas-docs/stable/indexing.html#indexing-view-versus-copy\n",
      "  \n"
     ]
    }
   ],
   "source": [
    "xinsheng=[]\n",
    "for i in df['地区']:\n",
    "    if i.__contains__('r8266'):\n",
    "        xinsheng.append(True)\n",
    "    else:\n",
    "        xinsheng.append(False)\n",
    "        \n",
    "df['地区'][xinsheng]='新省政府'"
   ]
  },
  {
   "cell_type": "code",
   "execution_count": 23,
   "metadata": {},
   "outputs": [
    {
     "name": "stderr",
     "output_type": "stream",
     "text": [
      "/anaconda3/lib/python3.6/site-packages/ipykernel_launcher.py:8: SettingWithCopyWarning: \n",
      "A value is trying to be set on a copy of a slice from a DataFrame\n",
      "\n",
      "See the caveats in the documentation: http://pandas.pydata.org/pandas-docs/stable/indexing.html#indexing-view-versus-copy\n",
      "  \n"
     ]
    }
   ],
   "source": [
    "shijicheng=[]\n",
    "for i in df['地区']:\n",
    "    if i.__contains__('r8260'):\n",
    "        shijicheng.append(True)\n",
    "    else:\n",
    "        shijicheng.append(False)\n",
    "        \n",
    "df['地区'][shijicheng]='湘江世纪城'"
   ]
  },
  {
   "cell_type": "code",
   "execution_count": 24,
   "metadata": {},
   "outputs": [
    {
     "name": "stderr",
     "output_type": "stream",
     "text": [
      "/anaconda3/lib/python3.6/site-packages/ipykernel_launcher.py:8: SettingWithCopyWarning: \n",
      "A value is trying to be set on a copy of a slice from a DataFrame\n",
      "\n",
      "See the caveats in the documentation: http://pandas.pydata.org/pandas-docs/stable/indexing.html#indexing-view-versus-copy\n",
      "  \n"
     ]
    }
   ],
   "source": [
    "changsha=[]\n",
    "for i in df['地区']:\n",
    "    if i.__contains__('r8250'):\n",
    "        changsha.append(True)\n",
    "    else:\n",
    "        changsha.append(False)\n",
    "        \n",
    "df['地区'][changsha]='长沙县'"
   ]
  },
  {
   "cell_type": "code",
   "execution_count": 25,
   "metadata": {},
   "outputs": [
    {
     "name": "stderr",
     "output_type": "stream",
     "text": [
      "/anaconda3/lib/python3.6/site-packages/ipykernel_launcher.py:8: SettingWithCopyWarning: \n",
      "A value is trying to be set on a copy of a slice from a DataFrame\n",
      "\n",
      "See the caveats in the documentation: http://pandas.pydata.org/pandas-docs/stable/indexing.html#indexing-view-versus-copy\n",
      "  \n"
     ]
    }
   ],
   "source": [
    "hongxing=[]\n",
    "for i in df['地区']:\n",
    "    if i.__contains__('r7963'):\n",
    "        hongxing.append(True)\n",
    "    else:\n",
    "        hongxing.append(False)\n",
    "        \n",
    "df['地区'][hongxing]='红星'"
   ]
  },
  {
   "cell_type": "code",
   "execution_count": 26,
   "metadata": {},
   "outputs": [
    {
     "name": "stderr",
     "output_type": "stream",
     "text": [
      "/anaconda3/lib/python3.6/site-packages/ipykernel_launcher.py:8: SettingWithCopyWarning: \n",
      "A value is trying to be set on a copy of a slice from a DataFrame\n",
      "\n",
      "See the caveats in the documentation: http://pandas.pydata.org/pandas-docs/stable/indexing.html#indexing-view-versus-copy\n",
      "  \n"
     ]
    }
   ],
   "source": [
    "xiying=[]\n",
    "for i in df['地区']:\n",
    "    if i.__contains__('r12155'):\n",
    "        xiying.append(True)\n",
    "    else:\n",
    "        xiying.append(False)\n",
    "        \n",
    "df['地区'][xiying]='喜盈门'"
   ]
  },
  {
   "cell_type": "code",
   "execution_count": 27,
   "metadata": {},
   "outputs": [
    {
     "name": "stderr",
     "output_type": "stream",
     "text": [
      "/anaconda3/lib/python3.6/site-packages/ipykernel_launcher.py:8: SettingWithCopyWarning: \n",
      "A value is trying to be set on a copy of a slice from a DataFrame\n",
      "\n",
      "See the caveats in the documentation: http://pandas.pydata.org/pandas-docs/stable/indexing.html#indexing-view-versus-copy\n",
      "  \n"
     ]
    }
   ],
   "source": [
    "guansha=[]\n",
    "for i in df['地区']:\n",
    "    if i.__contains__('r12164'):\n",
    "        guansha.append(True)\n",
    "    else:\n",
    "        guansha.append(False)\n",
    "        \n",
    "df['地区'][guansha]='观沙岭'"
   ]
  },
  {
   "cell_type": "code",
   "execution_count": 28,
   "metadata": {},
   "outputs": [
    {
     "name": "stderr",
     "output_type": "stream",
     "text": [
      "/anaconda3/lib/python3.6/site-packages/ipykernel_launcher.py:8: SettingWithCopyWarning: \n",
      "A value is trying to be set on a copy of a slice from a DataFrame\n",
      "\n",
      "See the caveats in the documentation: http://pandas.pydata.org/pandas-docs/stable/indexing.html#indexing-view-versus-copy\n",
      "  \n"
     ]
    }
   ],
   "source": [
    "shewai=[]\n",
    "for i in df['地区']:\n",
    "    if i.__contains__('r12165'):\n",
    "        shewai.append(True)\n",
    "    else:\n",
    "        shewai.append(False)\n",
    "        \n",
    "df['地区'][shewai]='涉外经济学院'"
   ]
  },
  {
   "cell_type": "code",
   "execution_count": 29,
   "metadata": {
    "scrolled": true
   },
   "outputs": [
    {
     "name": "stderr",
     "output_type": "stream",
     "text": [
      "/anaconda3/lib/python3.6/site-packages/ipykernel_launcher.py:8: SettingWithCopyWarning: \n",
      "A value is trying to be set on a copy of a slice from a DataFrame\n",
      "\n",
      "See the caveats in the documentation: http://pandas.pydata.org/pandas-docs/stable/indexing.html#indexing-view-versus-copy\n",
      "  \n"
     ]
    }
   ],
   "source": [
    "meixi=[]\n",
    "for i in df['地区']:\n",
    "    if i.__contains__('r23996'):\n",
    "        meixi.append(True)\n",
    "    else:\n",
    "        meixi.append(False)\n",
    "        \n",
    "df['地区'][meixi]='梅溪湖'"
   ]
  },
  {
   "cell_type": "code",
   "execution_count": 32,
   "metadata": {},
   "outputs": [
    {
     "name": "stderr",
     "output_type": "stream",
     "text": [
      "/anaconda3/lib/python3.6/site-packages/ipykernel_launcher.py:8: SettingWithCopyWarning: \n",
      "A value is trying to be set on a copy of a slice from a DataFrame\n",
      "\n",
      "See the caveats in the documentation: http://pandas.pydata.org/pandas-docs/stable/indexing.html#indexing-view-versus-copy\n",
      "  \n"
     ]
    }
   ],
   "source": [
    "sifang=[]\n",
    "for i in df['地区']:\n",
    "    if i.__contains__('r6027'):\n",
    "        sifang.append(True)\n",
    "    else:\n",
    "        sifang.append(False)\n",
    "        \n",
    "df['地区'][sifang]='四方坪'"
   ]
  },
  {
   "cell_type": "code",
   "execution_count": 33,
   "metadata": {},
   "outputs": [
    {
     "name": "stderr",
     "output_type": "stream",
     "text": [
      "/anaconda3/lib/python3.6/site-packages/ipykernel_launcher.py:8: SettingWithCopyWarning: \n",
      "A value is trying to be set on a copy of a slice from a DataFrame\n",
      "\n",
      "See the caveats in the documentation: http://pandas.pydata.org/pandas-docs/stable/indexing.html#indexing-view-versus-copy\n",
      "  \n"
     ]
    }
   ],
   "source": [
    "yuanjia=[]\n",
    "for i in df['地区']:\n",
    "    if i.__contains__('r6026'):\n",
    "        yuanjia.append(True)\n",
    "    else:\n",
    "        yuanjia.append(False)\n",
    "        \n",
    "df['地区'][yuanjia]='袁家岭'"
   ]
  },
  {
   "cell_type": "code",
   "execution_count": 37,
   "metadata": {},
   "outputs": [
    {
     "name": "stderr",
     "output_type": "stream",
     "text": [
      "/anaconda3/lib/python3.6/site-packages/ipykernel_launcher.py:8: SettingWithCopyWarning: \n",
      "A value is trying to be set on a copy of a slice from a DataFrame\n",
      "\n",
      "See the caveats in the documentation: http://pandas.pydata.org/pandas-docs/stable/indexing.html#indexing-view-versus-copy\n",
      "  \n"
     ]
    }
   ],
   "source": [
    "xinkai=[]\n",
    "for i in df['地区']:\n",
    "    if i.__contains__('r7959'):\n",
    "        xinkai.append(True)\n",
    "    else:\n",
    "        xinkai.append(False)\n",
    "        \n",
    "df['地区'][xinkai]='新开铺'"
   ]
  },
  {
   "cell_type": "code",
   "execution_count": 47,
   "metadata": {},
   "outputs": [
    {
     "name": "stderr",
     "output_type": "stream",
     "text": [
      "/anaconda3/lib/python3.6/site-packages/ipykernel_launcher.py:8: SettingWithCopyWarning: \n",
      "A value is trying to be set on a copy of a slice from a DataFrame\n",
      "\n",
      "See the caveats in the documentation: http://pandas.pydata.org/pandas-docs/stable/indexing.html#indexing-view-versus-copy\n",
      "  \n"
     ]
    }
   ],
   "source": [
    "lugu=[]\n",
    "for i in df['地区']:\n",
    "    if i.__contains__('r7965'):\n",
    "        lugu.append(True)\n",
    "    else:\n",
    "        lugu.append(False)\n",
    "        \n",
    "df['地区'][lugu]='麓谷'"
   ]
  },
  {
   "cell_type": "code",
   "execution_count": 48,
   "metadata": {},
   "outputs": [
    {
     "name": "stderr",
     "output_type": "stream",
     "text": [
      "/anaconda3/lib/python3.6/site-packages/ipykernel_launcher.py:8: SettingWithCopyWarning: \n",
      "A value is trying to be set on a copy of a slice from a DataFrame\n",
      "\n",
      "See the caveats in the documentation: http://pandas.pydata.org/pandas-docs/stable/indexing.html#indexing-view-versus-copy\n",
      "  \n"
     ]
    }
   ],
   "source": [
    "yaoling=[]\n",
    "for i in df['地区']:\n",
    "    if i.__contains__('r7961'):\n",
    "        yaoling.append(True)\n",
    "    else:\n",
    "        yaoling.append(False)\n",
    "        \n",
    "df['地区'][yaoling]='窑岭'"
   ]
  },
  {
   "cell_type": "code",
   "execution_count": 49,
   "metadata": {},
   "outputs": [
    {
     "name": "stderr",
     "output_type": "stream",
     "text": [
      "/anaconda3/lib/python3.6/site-packages/ipykernel_launcher.py:8: SettingWithCopyWarning: \n",
      "A value is trying to be set on a copy of a slice from a DataFrame\n",
      "\n",
      "See the caveats in the documentation: http://pandas.pydata.org/pandas-docs/stable/indexing.html#indexing-view-versus-copy\n",
      "  \n"
     ]
    }
   ],
   "source": [
    "kaifu=[]\n",
    "for i in df['地区']:\n",
    "    if i.__contains__('r8257'):\n",
    "        kaifu.append(True)\n",
    "    else:\n",
    "        kaifu.append(False)\n",
    "        \n",
    "df['地区'][kaifu]='开福万达'"
   ]
  },
  {
   "cell_type": "code",
   "execution_count": 50,
   "metadata": {},
   "outputs": [
    {
     "name": "stderr",
     "output_type": "stream",
     "text": [
      "/anaconda3/lib/python3.6/site-packages/ipykernel_launcher.py:8: SettingWithCopyWarning: \n",
      "A value is trying to be set on a copy of a slice from a DataFrame\n",
      "\n",
      "See the caveats in the documentation: http://pandas.pydata.org/pandas-docs/stable/indexing.html#indexing-view-versus-copy\n",
      "  \n"
     ]
    }
   ],
   "source": [
    "tiedao=[]\n",
    "for i in df['地区']:\n",
    "    if i.__contains__('r8268'):\n",
    "        tiedao.append(True)\n",
    "    else:\n",
    "        tiedao.append(False)\n",
    "        \n",
    "df['地区'][tiedao]='铁道/科林大'"
   ]
  },
  {
   "cell_type": "code",
   "execution_count": 51,
   "metadata": {},
   "outputs": [
    {
     "name": "stderr",
     "output_type": "stream",
     "text": [
      "/anaconda3/lib/python3.6/site-packages/ipykernel_launcher.py:8: SettingWithCopyWarning: \n",
      "A value is trying to be set on a copy of a slice from a DataFrame\n",
      "\n",
      "See the caveats in the documentation: http://pandas.pydata.org/pandas-docs/stable/indexing.html#indexing-view-versus-copy\n",
      "  \n"
     ]
    }
   ],
   "source": [
    "xinsha=[]\n",
    "for i in df['地区']:\n",
    "    if i.__contains__('r8251'):\n",
    "        xinsha.append(True)\n",
    "    else:\n",
    "        xinsha.append(False)\n",
    "        \n",
    "df['地区'][xinsha]='新沙开发区'"
   ]
  },
  {
   "cell_type": "code",
   "execution_count": 53,
   "metadata": {},
   "outputs": [
    {
     "name": "stderr",
     "output_type": "stream",
     "text": [
      "/anaconda3/lib/python3.6/site-packages/ipykernel_launcher.py:8: SettingWithCopyWarning: \n",
      "A value is trying to be set on a copy of a slice from a DataFrame\n",
      "\n",
      "See the caveats in the documentation: http://pandas.pydata.org/pandas-docs/stable/indexing.html#indexing-view-versus-copy\n",
      "  \n"
     ]
    }
   ],
   "source": [
    "mawangdui=[]\n",
    "for i in df['地区']:\n",
    "    if i.__contains__('r6024'):\n",
    "        mawangdui.append(True)\n",
    "    else:\n",
    "        mawangdui.append(False)\n",
    "        \n",
    "df['地区'][mawangdui]='马王堆'"
   ]
  },
  {
   "cell_type": "code",
   "execution_count": 54,
   "metadata": {},
   "outputs": [
    {
     "name": "stdout",
     "output_type": "stream",
     "text": [
      "http://www.dianping.com/changsha/ch10/r12145 1\n",
      "http://www.dianping.com/changsha/ch10/r12146 4\n",
      "http://www.dianping.com/changsha/ch10/r12147 1\n",
      "http://www.dianping.com/changsha/ch10/r12148 4\n",
      "http://www.dianping.com/changsha/ch10/r12149 6\n",
      "http://www.dianping.com/changsha/ch10/r12150 3\n",
      "http://www.dianping.com/changsha/ch10/r12151 5\n",
      "http://www.dianping.com/changsha/ch10/r12152 1\n",
      "http://www.dianping.com/changsha/ch10/r12154 3\n",
      "http://www.dianping.com/changsha/ch10/r12157 6\n",
      "http://www.dianping.com/changsha/ch10/r12158 1\n",
      "http://www.dianping.com/changsha/ch10/r12160 2\n",
      "http://www.dianping.com/changsha/ch10/r12161 2\n",
      "http://www.dianping.com/changsha/ch10/r12162 6\n",
      "http://www.dianping.com/changsha/ch10/r12163 7\n",
      "http://www.dianping.com/changsha/ch10/r12166 5\n",
      "http://www.dianping.com/changsha/ch10/r12167 1\n",
      "http://www.dianping.com/changsha/ch10/r12168 1\n",
      "http://www.dianping.com/changsha/ch10/r12169 7\n",
      "http://www.dianping.com/changsha/ch10/r12170 2\n",
      "http://www.dianping.com/changsha/ch10/r12171 2\n",
      "http://www.dianping.com/changsha/ch10/r12172 3\n",
      "http://www.dianping.com/changsha/ch10/r20127 1\n",
      "http://www.dianping.com/changsha/ch10/r23991 3\n",
      "http://www.dianping.com/changsha/ch10/r23992 5\n",
      "http://www.dianping.com/changsha/ch10/r23997 7\n",
      "http://www.dianping.com/changsha/ch10/r23998 1\n",
      "http://www.dianping.com/changsha/ch10/r23999 5\n",
      "http://www.dianping.com/changsha/ch10/r24002 1\n",
      "http://www.dianping.com/changsha/ch10/r24004 7\n",
      "http://www.dianping.com/changsha/ch10/r24006 5\n",
      "http://www.dianping.com/changsha/ch10/r24007 3\n",
      "http://www.dianping.com/changsha/ch10/r24008 7\n",
      "http://www.dianping.com/changsha/ch10/r28485 2\n",
      "http://www.dianping.com/changsha/ch10/r28486 2\n",
      "http://www.dianping.com/changsha/ch10/r28487 1\n",
      "http://www.dianping.com/changsha/ch10/r299 6\n",
      "http://www.dianping.com/changsha/ch10/r300 12\n",
      "http://www.dianping.com/changsha/ch10/r301 16\n",
      "http://www.dianping.com/changsha/ch10/r302 17\n",
      "http://www.dianping.com/changsha/ch10/r303 26\n",
      "http://www.dianping.com/changsha/ch10/r4641 7\n",
      "http://www.dianping.com/changsha/ch10/r6023 3\n",
      "http://www.dianping.com/changsha/ch10/r6028 5\n",
      "http://www.dianping.com/changsha/ch10/r6029 7\n",
      "http://www.dianping.com/changsha/ch10/r6032 8\n",
      "http://www.dianping.com/changsha/ch10/r6033 4\n",
      "http://www.dianping.com/changsha/ch10/r6034 7\n",
      "http://www.dianping.com/changsha/ch10/r67029 3\n",
      "http://www.dianping.com/changsha/ch10/r70517 7\n",
      "http://www.dianping.com/changsha/ch10/r7954 7\n",
      "http://www.dianping.com/changsha/ch10/r7955 9\n",
      "http://www.dianping.com/changsha/ch10/r7957 5\n",
      "http://www.dianping.com/changsha/ch10/r7958 6\n",
      "http://www.dianping.com/changsha/ch10/r7962 4\n",
      "http://www.dianping.com/changsha/ch10/r79955 1\n",
      "http://www.dianping.com/changsha/ch10/r8252 5\n",
      "http://www.dianping.com/changsha/ch10/r8258 2\n",
      "http://www.dianping.com/changsha/ch10/r8261 5\n",
      "http://www.dianping.com/changsha/ch10/r8264 1\n",
      "http://www.dianping.com/changsha/ch10/r8267 5\n",
      "http://www.dianping.com/changsha/ch10/r8269 2\n",
      "http://www.dianping.com/changsha/ch10/r8270 2\n",
      "http://www.dianping.com/changsha/ch10/r8273 8\n",
      "http://www.dianping.com/changsha/ch10/r8274 3\n",
      "http://www.dianping.com/changsha/ch10/r8276 2\n",
      "http://www.dianping.com/changsha/ch10/r8277 8\n",
      "http://www.dianping.com/changsha/ch10/r8278 6\n",
      "http://www.dianping.com/changsha/ch10/r88481 1\n",
      "http://www.dianping.com/changsha/ch10/r88511 3\n",
      "http://www.dianping.com/changsha/ch10/r88512 1\n",
      "http://www.dianping.com/changsha/ch10/r88514 4\n",
      "http://www.dianping.com/liuyang/ch10/r28490 1\n",
      "http://www.dianping.com/liuyang/ch10/r30458 1\n",
      "http://www.dianping.com/liuyang/ch10/r30801 2\n",
      "http://www.dianping.com/ningxiang/ch10/r24001 1\n",
      "http://www.dianping.com/ningxiang/ch10/r27900 2\n",
      "http://www.dianping.com/ningxiang/ch10/r27902 1\n",
      "http://www.dianping.com/ningxiang/ch10/r28095 1\n",
      "http://www.dianping.com/ningxiang/ch10/r4642 5\n",
      "http://www.dianping.com/ningxiang/ch10/r70835 3\n",
      "东塘 13\n",
      "中山亭 6\n",
      "五一广场 35\n",
      "体育新城 12\n",
      "咸嘉湖 4\n",
      "喜盈门 12\n",
      "四方坪 12\n",
      "坡子街 16\n",
      "天心阁 13\n",
      "开福万达 11\n",
      "新开铺 13\n",
      "新民路 5\n",
      "新沙开发区 10\n",
      "新省政府 14\n",
      "桐梓坡 15\n",
      "梅溪湖 15\n",
      "河西大学城 5\n",
      "浏阳河风光带 4\n",
      "涉外经济学院 10\n",
      "湘江世纪城 10\n",
      "火车站 3\n",
      "烈士公园 7\n",
      "窑岭 11\n",
      "红星 14\n",
      "芙蓉南路沿线 10\n",
      "袁家岭 13\n",
      "观沙岭 13\n",
      "解放西路 6\n",
      "铁道/科林大 9\n",
      "银盆岭 10\n",
      "长沙县 16\n",
      "马王堆 9\n",
      "高桥 12\n",
      "麓谷 11\n",
      "黄兴路步行街 13\n"
     ]
    }
   ],
   "source": [
    "place_df = df.groupby('地区').size()\n",
    "for k in place_df.index:\n",
    "    print(k, place_df[k])"
   ]
  },
  {
   "cell_type": "code",
   "execution_count": 56,
   "metadata": {},
   "outputs": [
    {
     "data": {
      "text/html": [
       "<div>\n",
       "<style scoped>\n",
       "    .dataframe tbody tr th:only-of-type {\n",
       "        vertical-align: middle;\n",
       "    }\n",
       "\n",
       "    .dataframe tbody tr th {\n",
       "        vertical-align: top;\n",
       "    }\n",
       "\n",
       "    .dataframe thead th {\n",
       "        text-align: right;\n",
       "    }\n",
       "</style>\n",
       "<table border=\"1\" class=\"dataframe\">\n",
       "  <thead>\n",
       "    <tr style=\"text-align: right;\">\n",
       "      <th></th>\n",
       "      <th>Unnamed: 0</th>\n",
       "      <th>店名</th>\n",
       "      <th>口味</th>\n",
       "      <th>环境</th>\n",
       "      <th>服务</th>\n",
       "      <th>地区</th>\n",
       "    </tr>\n",
       "  </thead>\n",
       "  <tbody>\n",
       "    <tr>\n",
       "      <th>0</th>\n",
       "      <td>0</td>\n",
       "      <td>钰湘宴·剁椒鱼头(河西岳麓总店)</td>\n",
       "      <td>8.5</td>\n",
       "      <td>8.9</td>\n",
       "      <td>8.6</td>\n",
       "      <td>桐梓坡</td>\n",
       "    </tr>\n",
       "    <tr>\n",
       "      <th>1</th>\n",
       "      <td>1</td>\n",
       "      <td>天水阁餐厅(岳麓店)</td>\n",
       "      <td>8.9</td>\n",
       "      <td>8.8</td>\n",
       "      <td>9.1</td>\n",
       "      <td>银盆岭</td>\n",
       "    </tr>\n",
       "    <tr>\n",
       "      <th>2</th>\n",
       "      <td>2</td>\n",
       "      <td>潘记虾尾(新开铺店)</td>\n",
       "      <td>8.3</td>\n",
       "      <td>9.1</td>\n",
       "      <td>7.6</td>\n",
       "      <td>五一广场</td>\n",
       "    </tr>\n",
       "    <tr>\n",
       "      <th>3</th>\n",
       "      <td>3</td>\n",
       "      <td>霸王虾(湘江世纪城店)</td>\n",
       "      <td>7.3</td>\n",
       "      <td>8.3</td>\n",
       "      <td>7.3</td>\n",
       "      <td>坡子街</td>\n",
       "    </tr>\n",
       "    <tr>\n",
       "      <th>4</th>\n",
       "      <td>4</td>\n",
       "      <td>新哥大排挡(润泽园店)</td>\n",
       "      <td>8.9</td>\n",
       "      <td>8.3</td>\n",
       "      <td>7.7</td>\n",
       "      <td>坡子街</td>\n",
       "    </tr>\n",
       "    <tr>\n",
       "      <th>5</th>\n",
       "      <td>5</td>\n",
       "      <td>乡村吊锅(茂华店)</td>\n",
       "      <td>7.3</td>\n",
       "      <td>9.0</td>\n",
       "      <td>7.8</td>\n",
       "      <td>湘江世纪城</td>\n",
       "    </tr>\n",
       "    <tr>\n",
       "      <th>6</th>\n",
       "      <td>6</td>\n",
       "      <td>兄弟宁乡蛇城</td>\n",
       "      <td>7.4</td>\n",
       "      <td>8.3</td>\n",
       "      <td>7.5</td>\n",
       "      <td>高桥</td>\n",
       "    </tr>\n",
       "    <tr>\n",
       "      <th>7</th>\n",
       "      <td>7</td>\n",
       "      <td>新长福(国贸店)</td>\n",
       "      <td>7.3</td>\n",
       "      <td>9.1</td>\n",
       "      <td>8.6</td>\n",
       "      <td>新开铺</td>\n",
       "    </tr>\n",
       "    <tr>\n",
       "      <th>8</th>\n",
       "      <td>8</td>\n",
       "      <td>钰湘宴·剁椒鱼头(解放西路店)</td>\n",
       "      <td>7.9</td>\n",
       "      <td>8.8</td>\n",
       "      <td>7.1</td>\n",
       "      <td>天心阁</td>\n",
       "    </tr>\n",
       "    <tr>\n",
       "      <th>9</th>\n",
       "      <td>9</td>\n",
       "      <td>映象潇湘(省政府店)</td>\n",
       "      <td>8.5</td>\n",
       "      <td>8.6</td>\n",
       "      <td>8.9</td>\n",
       "      <td>麓谷</td>\n",
       "    </tr>\n",
       "  </tbody>\n",
       "</table>\n",
       "</div>"
      ],
      "text/plain": [
       "   Unnamed: 0                店名   口味   环境   服务     地区\n",
       "0           0  钰湘宴·剁椒鱼头(河西岳麓总店)  8.5  8.9  8.6    桐梓坡\n",
       "1           1        天水阁餐厅(岳麓店)  8.9  8.8  9.1    银盆岭\n",
       "2           2        潘记虾尾(新开铺店)  8.3  9.1  7.6   五一广场\n",
       "3           3       霸王虾(湘江世纪城店)  7.3  8.3  7.3    坡子街\n",
       "4           4       新哥大排挡(润泽园店)  8.9  8.3  7.7    坡子街\n",
       "5           5         乡村吊锅(茂华店)  7.3  9.0  7.8  湘江世纪城\n",
       "6           6            兄弟宁乡蛇城  7.4  8.3  7.5     高桥\n",
       "7           7          新长福(国贸店)  7.3  9.1  8.6    新开铺\n",
       "8           8   钰湘宴·剁椒鱼头(解放西路店)  7.9  8.8  7.1    天心阁\n",
       "9           9        映象潇湘(省政府店)  8.5  8.6  8.9     麓谷"
      ]
     },
     "execution_count": 56,
     "metadata": {},
     "output_type": "execute_result"
    }
   ],
   "source": [
    "df.head(10)"
   ]
  },
  {
   "cell_type": "code",
   "execution_count": 57,
   "metadata": {},
   "outputs": [
    {
     "ename": "NameError",
     "evalue": "name 'pd_Shops_changsha_xiangcai' is not defined",
     "output_type": "error",
     "traceback": [
      "\u001b[0;31m---------------------------------------------------------------------------\u001b[0m",
      "\u001b[0;31mNameError\u001b[0m                                 Traceback (most recent call last)",
      "\u001b[0;32m<ipython-input-57-00f4f556db69>\u001b[0m in \u001b[0;36m<module>\u001b[0;34m()\u001b[0m\n\u001b[0;32m----> 1\u001b[0;31m \u001b[0mpd_Shops_changsha_xiangcai\u001b[0m\u001b[0;34m.\u001b[0m\u001b[0mcsv\u001b[0m\u001b[0;34m.\u001b[0m\u001b[0mto_csv\u001b[0m\u001b[0;34m(\u001b[0m\u001b[0;34m'chgangsha_xiangcai.csv'\u001b[0m\u001b[0;34m)\u001b[0m\u001b[0;34m\u001b[0m\u001b[0m\n\u001b[0m",
      "\u001b[0;31mNameError\u001b[0m: name 'pd_Shops_changsha_xiangcai' is not defined"
     ]
    }
   ],
   "source": []
  },
  {
   "cell_type": "code",
   "execution_count": null,
   "metadata": {},
   "outputs": [],
   "source": []
  }
 ],
 "metadata": {
  "kernelspec": {
   "display_name": "Python 3",
   "language": "python",
   "name": "python3"
  },
  "language_info": {
   "codemirror_mode": {
    "name": "ipython",
    "version": 3
   },
   "file_extension": ".py",
   "mimetype": "text/x-python",
   "name": "python",
   "nbconvert_exporter": "python",
   "pygments_lexer": "ipython3",
   "version": "3.6.5"
  }
 },
 "nbformat": 4,
 "nbformat_minor": 2
}
