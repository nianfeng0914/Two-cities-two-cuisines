{
 "cells": [
  {
   "cell_type": "code",
   "execution_count": 15,
   "metadata": {},
   "outputs": [],
   "source": [
    "import requests \n",
    "import bs4 as bs \n",
    "\n",
    "from time import sleep\n",
    "from time import time\n",
    "from random import randint\n",
    "\n",
    "import pandas as pd"
   ]
  },
  {
   "cell_type": "code",
   "execution_count": 16,
   "metadata": {
    "scrolled": true
   },
   "outputs": [
    {
     "name": "stdout",
     "output_type": "stream",
     "text": [
      "<Response [403]>\n"
     ]
    }
   ],
   "source": [
    "headers = {'Host': 'www.dianping.com',\n",
    "    'Referer': 'http://www.dianping.com/shop/22711693',\n",
    "    'User-Agent': 'Mozilla/5.0 (Macintosh; Intel Mac OS X 10_10_1) AppleWebKit/537.36 (KHTML, like Gecko) Chrome/39.0.2171.95 Safari/535.19',\n",
    "    'Accept-Encoding': 'gzip'}\n",
    "source = requests.get('https://www.dianping.com/search/keyword/344/0_川菜',headers=headers) \n",
    "\n",
    "print(source)"
   ]
  },
  {
   "cell_type": "code",
   "execution_count": 17,
   "metadata": {},
   "outputs": [],
   "source": [
    "page_html = bs.BeautifulSoup(source.content, 'html.parser')\n",
    "numbers = page_html.find_all('div',class_='bread J_bread')"
   ]
  },
  {
   "cell_type": "code",
   "execution_count": 18,
   "metadata": {},
   "outputs": [
    {
     "name": "stdout",
     "output_type": "stream",
     "text": [
      "[]\n"
     ]
    }
   ],
   "source": [
    "print(numbers)"
   ]
  },
  {
   "cell_type": "code",
   "execution_count": 19,
   "metadata": {},
   "outputs": [],
   "source": [
    "for number in numbers:\n",
    "    amount = number.select('span:nth-of-type(3)')\n",
    "    print(amount)"
   ]
  },
  {
   "cell_type": "code",
   "execution_count": null,
   "metadata": {},
   "outputs": [],
   "source": [
    "headers = {'Host': 'www.dianping.com',\n",
    "    'Referer': 'http://www.dianping.com/shop/22711693',\n",
    "    'User-Agent': 'Mozilla/5.0 (Macintosh; Intel Mac OS X 10_10_1) AppleWebKit/537.36 (KHTML, like Gecko) Chrome/39.0.2171.95 Safari/535.19',\n",
    "    'Accept-Encoding': 'gzip'}\n",
    "titles=[]\n",
    "kouweis=[]\n",
    "fuwus=[]\n",
    "huanjings=[]\n",
    "\n",
    "pages=[str(i) for i in range(1,51)]\n",
    "for page in pages:\n",
    "    source = requests.get('http://www.dianping.com/search/keyword/344/10_川菜/o2p'+page,headers=headers) \n",
    "    soup=bs.BeautifulSoup(source.content , features='html.parser')\n",
    "    sleep(randint(8,15))\n",
    "    \n",
    "    containers=soup.find_all('div',class_='txt')\n",
    "    for container in containers:\n",
    "        for title in container.find_all('h4'):\n",
    "            titles.append(title.text.strip())\n",
    "\n",
    "print(titles)\n",
    "####################################\n",
    "for row in soup.find_all('span',class_='comment-list'):\n",
    "        \n",
    "    kouwei=row.select('span:nth-of-type(1)')\n",
    "        \n",
    "    for i in kouwei:\n",
    "        kouwei2=i.get_text()\n",
    "        kouweis.append(kouwei2)            \n",
    "\n",
    "print(kouweis)\n",
    "###################################\n",
    "for row in soup.find_all('span',class_='comment-list'):\n",
    "        \n",
    "    fuwu=row.select('span:nth-of-type(3)')\n",
    "        \n",
    "    for i in fuwu:\n",
    "        fuwu2=i.get_text()\n",
    "        fuwus.append(fuwu2)\n",
    "print(fuwus)\n",
    "####################################\n",
    "for row in soup.find_all('span',class_='comment-list'):\n",
    "        \n",
    "    huanjing=row.select('span:nth-of-type(2)')\n",
    "        \n",
    "    for i in huanjing:\n",
    "        huanjing2=i.get_text()\n",
    "        huanjings.append(huanjing2)\n",
    "print(huanjings)\n",
    "###################################\n",
    "data_4={\n",
    "    '名字':titles,\n",
    "    '口味':kouweis,\n",
    "    '環境':huanjings,\n",
    "    '服務':fuwus\n",
    "}\n",
    "pd_changshachuancai=pd.DataFrame.from_dict(data_4,orient='index').transpose()\n",
    "print(pd_changshachuancai.info())"
   ]
  },
  {
   "cell_type": "code",
   "execution_count": null,
   "metadata": {},
   "outputs": [],
   "source": []
  },
  {
   "cell_type": "code",
   "execution_count": null,
   "metadata": {},
   "outputs": [],
   "source": [
    "kouweis=[]\n",
    "\n",
    "\n",
    "pages=[str(i) for i in range(1,51)]\n",
    "for page in pages:\n",
    "    source = requests.get('http://www.dianping.com/search/keyword/344/10_川菜/o2p'+page,headers=headers) \n",
    "    soup=bs.BeautifulSoup(source.content , features='html.parser')\n",
    "    sleep(randint(8,15))\n",
    "    \n",
    "\n",
    "    for row in soup.find_all('span',class_='comment-list'):\n",
    "        \n",
    "        kouwei=row.select('span:nth-of-type(1)')\n",
    "        \n",
    "        for i in kouwei:\n",
    "            kouwei2=i.get_text()\n",
    "        kouweis.append(kouwei2)            \n",
    "\n",
    "print(kouweis)"
   ]
  },
  {
   "cell_type": "code",
   "execution_count": null,
   "metadata": {},
   "outputs": [],
   "source": [
    "huanjings=[]\n",
    "\n",
    "pages=[str(i) for i in range(1,51)]\n",
    "for page in pages:\n",
    "    source = requests.get('http://www.dianping.com/search/keyword/344/10_川菜/o2p'+page,headers=headers) \n",
    "    soup=bs.BeautifulSoup(source.content , features='html.parser')\n",
    "    sleep(randint(8,15))\n",
    "    \n",
    "\n",
    "    for row in soup.find_all('span',class_='comment-list'):\n",
    "        \n",
    "        huanjing=row.select('span:nth-of-type(2)')\n",
    "        \n",
    "        for i in huanjing:\n",
    "            huanjing2=i.get_text()\n",
    "        huanjings.append(huanjing2)\n",
    "print(huanjings)"
   ]
  },
  {
   "cell_type": "code",
   "execution_count": null,
   "metadata": {},
   "outputs": [],
   "source": [
    "fuwus=[]\n",
    "\n",
    "pages=[str(i) for i in range(1,51)]\n",
    "for page in pages:\n",
    "    source = requests.get('http://www.dianping.com/search/keyword/344/10_川菜/o2p'+page,headers=headers) \n",
    "    soup=bs.BeautifulSoup(source.content , features='html.parser')\n",
    "    sleep(randint(8,15))\n",
    "    \n",
    "\n",
    "    for row in soup.find_all('span',class_='comment-list'):\n",
    "        \n",
    "        fuwu=row.select('span:nth-of-type(3)')\n",
    "        \n",
    "        for i in fuwu:\n",
    "            fuwu2=i.get_text()\n",
    "        fuwus.append(fuwu2)\n",
    "print(fuwus)"
   ]
  },
  {
   "cell_type": "code",
   "execution_count": null,
   "metadata": {},
   "outputs": [],
   "source": [
    "data_4={\n",
    "    '名字':titles,\n",
    "    '口味':kouweis,\n",
    "    '環境':huanjings,\n",
    "    '服務':fuwus\n",
    "}\n",
    "pd_changshachuancai=pd.DataFrame.from_dict(data_4,orient='index').transpose()\n",
    "print(pd_changshachuancai.info())"
   ]
  },
  {
   "cell_type": "code",
   "execution_count": null,
   "metadata": {},
   "outputs": [],
   "source": [
    "pd_changshachuancai.head()"
   ]
  },
  {
   "cell_type": "code",
   "execution_count": 1,
   "metadata": {},
   "outputs": [
    {
     "ename": "NameError",
     "evalue": "name 'pd_chengduxiangcai' is not defined",
     "output_type": "error",
     "traceback": [
      "\u001b[0;31m---------------------------------------------------------------------------\u001b[0m",
      "\u001b[0;31mNameError\u001b[0m                                 Traceback (most recent call last)",
      "\u001b[0;32m<ipython-input-1-982607894ec1>\u001b[0m in \u001b[0;36m<module>\u001b[0;34m()\u001b[0m\n\u001b[0;32m----> 1\u001b[0;31m \u001b[0mpd_chengduxiangcai\u001b[0m\u001b[0;34m.\u001b[0m\u001b[0mto_csv\u001b[0m\u001b[0;34m(\u001b[0m\u001b[0;34m'pd_長沙川菜.csv'\u001b[0m\u001b[0;34m)\u001b[0m\u001b[0;34m\u001b[0m\u001b[0m\n\u001b[0m",
      "\u001b[0;31mNameError\u001b[0m: name 'pd_chengduxiangcai' is not defined"
     ]
    }
   ],
   "source": [
    "pd_chengduxiangcai.to_csv('pd_長沙川菜.csv')"
   ]
  },
  {
   "cell_type": "code",
   "execution_count": null,
   "metadata": {},
   "outputs": [],
   "source": [
    "df=pd.read_csv('pd_長沙川菜.csv')"
   ]
  },
  {
   "cell_type": "code",
   "execution_count": null,
   "metadata": {},
   "outputs": [],
   "source": [
    "wuyi=[]\n",
    "for i in df['地区']:\n",
    "    if i.__contains__('r6025'):\n",
    "        wuyi.append(True)\n",
    "    else:\n",
    "        wuyi.append(False)\n",
    "        \n",
    "df['地区'][wuyi]='五一广场'"
   ]
  },
  {
   "cell_type": "code",
   "execution_count": null,
   "metadata": {},
   "outputs": [],
   "source": [
    "huang=[]\n",
    "for i in df['地区']:\n",
    "    if i.__contains__('r7956'):\n",
    "        huang.append(True)\n",
    "    else:\n",
    "        huang.append(False)\n",
    "        \n",
    "df['地区'][huang]='黄兴路步行街'"
   ]
  },
  {
   "cell_type": "code",
   "execution_count": null,
   "metadata": {},
   "outputs": [],
   "source": [
    "zhongshan=[]\n",
    "for i in df['地区']:\n",
    "    if i.__contains__('r8256'):\n",
    "        zhongshan.append(True)\n",
    "    else:\n",
    "        zhongshan.append(False)\n",
    "        \n",
    "df['地区'][zhongshan]='中山亭'"
   ]
  },
  {
   "cell_type": "code",
   "execution_count": null,
   "metadata": {},
   "outputs": [],
   "source": [
    "xinmin=[]\n",
    "for i in df['地区']:\n",
    "    if i.__contains__('r23995'):\n",
    "        xinmin.append(True)\n",
    "    else:\n",
    "        xinmin.append(False)\n",
    "df['地区'][xinmin]='新民路'"
   ]
  },
  {
   "cell_type": "code",
   "execution_count": null,
   "metadata": {},
   "outputs": [],
   "source": [
    "tongzi=[]\n",
    "for i in df['地区']:\n",
    "    if i.__contains__('r6035'):\n",
    "        tongzi.append(True)\n",
    "    else:\n",
    "        tongzi.append(False)\n",
    "        \n",
    "df['地区'][tongzi]='桐梓坡'"
   ]
  },
  {
   "cell_type": "code",
   "execution_count": null,
   "metadata": {},
   "outputs": [],
   "source": [
    "liuyanghe=[]\n",
    "for i in df['地区']:\n",
    "    if i.__contains__('r8254'):\n",
    "        liuyanghe.append(True)\n",
    "    else:\n",
    "        liuyanghe.append(False)\n",
    "        \n",
    "df['地区'][liuyanghe]='浏阳河风光带'"
   ]
  },
  {
   "cell_type": "code",
   "execution_count": null,
   "metadata": {},
   "outputs": [],
   "source": [
    "lieshi=[]\n",
    "for i in df['地区']:\n",
    "    if i.__contains__('r8259'):\n",
    "        lieshi.append(True)\n",
    "    else:\n",
    "        lieshi.append(False)\n",
    "        \n",
    "df['地区'][lieshi]='烈士公园'"
   ]
  },
  {
   "cell_type": "code",
   "execution_count": null,
   "metadata": {},
   "outputs": [],
   "source": [
    "hexi=[]\n",
    "for i in df['地区']:\n",
    "    if i.__contains__('r6036'):\n",
    "        hexi.append(True)\n",
    "    else:\n",
    "        hexi.append(False)\n",
    "        \n",
    "df['地区'][hexi]='河西大学城'"
   ]
  },
  {
   "cell_type": "code",
   "execution_count": null,
   "metadata": {},
   "outputs": [],
   "source": [
    "pozi=[]\n",
    "for i in df['地区']:\n",
    "    if i.__contains__('r12159'):\n",
    "        pozi.append(True)\n",
    "    else:\n",
    "        pozi.append(False)\n",
    "        \n",
    "df['地区'][pozi]='坡子街'"
   ]
  },
  {
   "cell_type": "code",
   "execution_count": null,
   "metadata": {},
   "outputs": [],
   "source": [
    "yinpen=[]\n",
    "for i in df['地区']:\n",
    "    if i.__contains__('r7964'):\n",
    "        yinpen.append(True)\n",
    "    else:\n",
    "        yinpen.append(False)\n",
    "        \n",
    "df['地区'][yinpen]='银盆岭'"
   ]
  },
  {
   "cell_type": "code",
   "execution_count": null,
   "metadata": {},
   "outputs": [],
   "source": [
    "huoche=[]\n",
    "for i in df['地区']:\n",
    "    if i.__contains__('r8253'):\n",
    "        huoche.append(True)\n",
    "    else:\n",
    "        huoche.append(False)\n",
    "        \n",
    "df['地区'][huoche]='火车站'"
   ]
  },
  {
   "cell_type": "code",
   "execution_count": null,
   "metadata": {},
   "outputs": [],
   "source": [
    "jiefang=[]\n",
    "for i in df['地区']:\n",
    "    if i.__contains__('r8263'):\n",
    "        jiefang.append(True)\n",
    "    else:\n",
    "        jiefang.append(False)\n",
    "        \n",
    "df['地区'][jiefang]='解放西路'"
   ]
  },
  {
   "cell_type": "code",
   "execution_count": null,
   "metadata": {},
   "outputs": [],
   "source": [
    "xianjia=[]\n",
    "for i in df['地区']:\n",
    "    if i.__contains__('r8275'):\n",
    "        xianjia.append(True)\n",
    "    else:\n",
    "        xianjia.append(False)\n",
    "        \n",
    "df['地区'][xianjia]='咸嘉湖'"
   ]
  },
  {
   "cell_type": "code",
   "execution_count": null,
   "metadata": {},
   "outputs": [],
   "source": [
    "dongtang=[]\n",
    "for i in df['地区']:\n",
    "    if i.__contains__('r6031'):\n",
    "        dongtang.append(True)\n",
    "    else:\n",
    "        dongtang.append(False)\n",
    "        \n",
    "df['地区'][dongtang]='东塘'"
   ]
  },
  {
   "cell_type": "code",
   "execution_count": null,
   "metadata": {},
   "outputs": [],
   "source": [
    "zhongshan=[]\n",
    "for i in df['地区']:\n",
    "    if i.__contains__('r8256'):\n",
    "        zhongshan.append(True)\n",
    "    else:\n",
    "        zhongshan.append(False)\n",
    "        \n",
    "df['地区'][zhongshan]='中山亭'"
   ]
  },
  {
   "cell_type": "code",
   "execution_count": null,
   "metadata": {},
   "outputs": [],
   "source": [
    "furong=[]\n",
    "for i in df['地区']:\n",
    "    if i.__contains__('r7960'):\n",
    "        furong.append(True)\n",
    "    else:\n",
    "        furong.append(False)\n",
    "        \n",
    "df['地区'][furong]='芙蓉南路沿线'"
   ]
  },
  {
   "cell_type": "code",
   "execution_count": null,
   "metadata": {},
   "outputs": [],
   "source": [
    "tianxin=[]\n",
    "for i in df['地区']:\n",
    "    if i.__contains__('r6030'):\n",
    "        tianxin.append(True)\n",
    "    else:\n",
    "        tianxin.append(False)\n",
    "        \n",
    "df['地区'][tianxin]='天心阁'"
   ]
  },
  {
   "cell_type": "code",
   "execution_count": null,
   "metadata": {},
   "outputs": [],
   "source": [
    "tiyu=[]\n",
    "for i in df['地区']:\n",
    "    if i.__contains__('r8272'):\n",
    "        tiyu.append(True)\n",
    "    else:\n",
    "        tiyu.append(False)\n",
    "        \n",
    "df['地区'][tiyu]='体育新城'"
   ]
  },
  {
   "cell_type": "code",
   "execution_count": null,
   "metadata": {},
   "outputs": [],
   "source": [
    "gaoqiao=[]\n",
    "for i in df['地区']:\n",
    "    if i.__contains__('r8271'):\n",
    "        gaoqiao.append(True)\n",
    "    else:\n",
    "        gaoqiao.append(False)\n",
    "        \n",
    "df['地区'][gaoqiao]='高桥'"
   ]
  },
  {
   "cell_type": "code",
   "execution_count": null,
   "metadata": {},
   "outputs": [],
   "source": [
    "xinsheng=[]\n",
    "for i in df['地区']:\n",
    "    if i.__contains__('r8266'):\n",
    "        xinsheng.append(True)\n",
    "    else:\n",
    "        xinsheng.append(False)\n",
    "        \n",
    "df['地区'][xinsheng]='新省政府'"
   ]
  },
  {
   "cell_type": "code",
   "execution_count": null,
   "metadata": {},
   "outputs": [],
   "source": [
    "shijicheng=[]\n",
    "for i in df['地区']:\n",
    "    if i.__contains__('r8260'):\n",
    "        shijicheng.append(True)\n",
    "    else:\n",
    "        shijicheng.append(False)\n",
    "        \n",
    "df['地区'][shijicheng]='湘江世纪城'"
   ]
  },
  {
   "cell_type": "code",
   "execution_count": null,
   "metadata": {},
   "outputs": [],
   "source": [
    "changsha=[]\n",
    "for i in df['地区']:\n",
    "    if i.__contains__('r8250'):\n",
    "        changsha.append(True)\n",
    "    else:\n",
    "        changsha.append(False)\n",
    "        \n",
    "df['地区'][changsha]='长沙县'"
   ]
  },
  {
   "cell_type": "code",
   "execution_count": null,
   "metadata": {},
   "outputs": [],
   "source": [
    "hongxing=[]\n",
    "for i in df['地区']:\n",
    "    if i.__contains__('r7963'):\n",
    "        hongxing.append(True)\n",
    "    else:\n",
    "        hongxing.append(False)\n",
    "        \n",
    "df['地区'][hongxing]='红星'"
   ]
  },
  {
   "cell_type": "code",
   "execution_count": null,
   "metadata": {},
   "outputs": [],
   "source": [
    "xiying=[]\n",
    "for i in df['地区']:\n",
    "    if i.__contains__('r12155'):\n",
    "        xiying.append(True)\n",
    "    else:\n",
    "        xiying.append(False)\n",
    "        \n",
    "df['地区'][xiying]='喜盈门'"
   ]
  },
  {
   "cell_type": "code",
   "execution_count": null,
   "metadata": {},
   "outputs": [],
   "source": [
    "guansha=[]\n",
    "for i in df['地区']:\n",
    "    if i.__contains__('r12164'):\n",
    "        guansha.append(True)\n",
    "    else:\n",
    "        guansha.append(False)\n",
    "        \n",
    "df['地区'][guansha]='观沙岭'"
   ]
  },
  {
   "cell_type": "code",
   "execution_count": null,
   "metadata": {},
   "outputs": [],
   "source": [
    "shewai=[]\n",
    "for i in df['地区']:\n",
    "    if i.__contains__('r12165'):\n",
    "        shewai.append(True)\n",
    "    else:\n",
    "        shewai.append(False)\n",
    "        \n",
    "df['地区'][shewai]='涉外经济学院'"
   ]
  },
  {
   "cell_type": "code",
   "execution_count": null,
   "metadata": {},
   "outputs": [],
   "source": [
    "meixi=[]\n",
    "for i in df['地区']:\n",
    "    if i.__contains__('r23996'):\n",
    "        meixi.append(True)\n",
    "    else:\n",
    "        meixi.append(False)\n",
    "        \n",
    "df['地区'][meixi]='梅溪湖'"
   ]
  },
  {
   "cell_type": "code",
   "execution_count": null,
   "metadata": {},
   "outputs": [],
   "source": [
    "sifang=[]\n",
    "for i in df['地区']:\n",
    "    if i.__contains__('r6027'):\n",
    "        sifang.append(True)\n",
    "    else:\n",
    "        sifang.append(False)\n",
    "        \n",
    "df['地区'][sifang]='四方坪'"
   ]
  },
  {
   "cell_type": "code",
   "execution_count": null,
   "metadata": {},
   "outputs": [],
   "source": [
    "yuanjia=[]\n",
    "for i in df['地区']:\n",
    "    if i.__contains__('r6026'):\n",
    "        yuanjia.append(True)\n",
    "    else:\n",
    "        yuanjia.append(False)\n",
    "        \n",
    "df['地区'][yuanjia]='袁家岭'"
   ]
  },
  {
   "cell_type": "code",
   "execution_count": null,
   "metadata": {},
   "outputs": [],
   "source": [
    "xinkai=[]\n",
    "for i in df['地区']:\n",
    "    if i.__contains__('r7959'):\n",
    "        xinkai.append(True)\n",
    "    else:\n",
    "        xinkai.append(False)\n",
    "        \n",
    "df['地区'][xinkai]='新开铺'"
   ]
  },
  {
   "cell_type": "code",
   "execution_count": null,
   "metadata": {},
   "outputs": [],
   "source": [
    "lugu=[]\n",
    "for i in df['地区']:\n",
    "    if i.__contains__('r7965'):\n",
    "        lugu.append(True)\n",
    "    else:\n",
    "        lugu.append(False)\n",
    "        \n",
    "df['地区'][lugu]='麓谷'"
   ]
  },
  {
   "cell_type": "code",
   "execution_count": null,
   "metadata": {},
   "outputs": [],
   "source": [
    "yaoling=[]\n",
    "for i in df['地区']:\n",
    "    if i.__contains__('r7961'):\n",
    "        yaoling.append(True)\n",
    "    else:\n",
    "        yaoling.append(False)\n",
    "        \n",
    "df['地区'][yaoling]='窑岭'"
   ]
  },
  {
   "cell_type": "code",
   "execution_count": null,
   "metadata": {},
   "outputs": [],
   "source": [
    "kaifu=[]\n",
    "for i in df['地区']:\n",
    "    if i.__contains__('r8257'):\n",
    "        kaifu.append(True)\n",
    "    else:\n",
    "        kaifu.append(False)\n",
    "        \n",
    "df['地区'][kaifu]='开福万达'"
   ]
  },
  {
   "cell_type": "code",
   "execution_count": null,
   "metadata": {},
   "outputs": [],
   "source": [
    "tiedao=[]\n",
    "for i in df['地区']:\n",
    "    if i.__contains__('r8268'):\n",
    "        tiedao.append(True)\n",
    "    else:\n",
    "        tiedao.append(False)\n",
    "        \n",
    "df['地区'][tiedao]='铁道/科林大'"
   ]
  }
 ],
 "metadata": {
  "kernelspec": {
   "display_name": "Python 3",
   "language": "python",
   "name": "python3"
  },
  "language_info": {
   "codemirror_mode": {
    "name": "ipython",
    "version": 3
   },
   "file_extension": ".py",
   "mimetype": "text/x-python",
   "name": "python",
   "nbconvert_exporter": "python",
   "pygments_lexer": "ipython3",
   "version": "3.6.5"
  }
 },
 "nbformat": 4,
 "nbformat_minor": 2
}
